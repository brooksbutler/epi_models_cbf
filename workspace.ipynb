{
 "cells": [
  {
   "cell_type": "code",
   "execution_count": 131,
   "metadata": {},
   "outputs": [],
   "source": [
    "import numpy as np\n",
    "import matplotlib.pyplot as plt\n",
    "import pandas as pd\n",
    "import scipy.optimize as sopt\n",
    "\n",
    "def Laplacian(A):\n",
    "    L = np.zeros(A.shape)\n",
    "    n = len(A)\n",
    "    for i in range(n):\n",
    "        for j in range(n):\n",
    "            if i==j:\n",
    "                L[i,j] = np.sum(A[:,j])\n",
    "            else:\n",
    "                L[i,j] = -A[i,j]\n",
    "    return L\n",
    "\n",
    "def x_dot(x,Theta, B, U_l, V_l):\n",
    "    x_d = ((Theta + U_l) + np.kron(x.T,np.eye(len(x)))@(B-V_l))@x\n",
    "    return x_d \n",
    "\n",
    "\n",
    "def build_B(n, B_A, Y_cal, Z_cal):\n",
    "    B = np.zeros((n**2,n))\n",
    "\n",
    "    n = len(Y_cal)\n",
    "\n",
    "    for i, (Y_i, Z_i) in enumerate(zip(Y_cal,Z_cal)):\n",
    "        if Y_i:\n",
    "            for y in Y_i:\n",
    "                j, k = y\n",
    "                B[n*k+i, j] = B_A[j,k]\n",
    "        \n",
    "        if Z_i:\n",
    "            for z in Z_i:\n",
    "                j, k = z\n",
    "                B[n*k+i, j] = -B_A[j,k]\n",
    "    return B\n",
    "\n",
    "def simulate(numsteps, dt, x0, Theta, B, control=False):\n",
    "    if not control:\n",
    "        U = np.zeros(Theta.shape)\n",
    "        V = np.zeros(B.shape)\n",
    "        \n",
    "        x = x0\n",
    "        xs = [x]\n",
    "        for _ in range(numsteps):\n",
    "            x = x + dt*x_dot(x,Theta,B,U,V)\n",
    "            xs.append(x)\n",
    "        return xs\n",
    "    else:\n",
    "        return None\n",
    "\n",
    "def advance_flatten(M):\n",
    "    indices = np.array(list(np.ndindex(M.shape)))\n",
    "    df = pd.DataFrame({'val': M.flatten(), 'd0': indices[:, 0], 'd1': indices[:, 1]})\n",
    "    return df\n",
    "\n",
    "def h(x, I_max, I_cal):\n",
    "    inds = [i for i in I_cal]\n",
    "    return I_max - np.sum(x[inds])\n",
    "\n",
    "def alpha(x):\n",
    "    return x**2\n",
    "\n",
    "def d(x, Theta, B):\n",
    "    print((Theta  + np.kron(x.T,np.eye(len(x)))@B)@x)\n",
    "    return np.sum((Theta  + np.kron(x.T,np.eye(len(x)))@B)@x)\n",
    "\n",
    "def solve_UV(x,lam, omg, O_cal, I_cal):\n",
    "    \n",
    "    return None\n"
   ]
  },
  {
   "cell_type": "code",
   "execution_count": 133,
   "metadata": {},
   "outputs": [
    {
     "data": {
      "image/png": "[encoded data removed]",
      "text/plain": [
       "<Figure size 432x288 with 4 Axes>"
      ]
     },
     "metadata": {
      "needs_background": "light"
     },
     "output_type": "display_data"
    },
    {
     "data": {
      "text/plain": [
       "array([0.0994131 , 0.376937  , 0.37349363, 0.15015627])"
      ]
     },
     "execution_count": 133,
     "metadata": {},
     "output_type": "execute_result"
    }
   ],
   "source": [
    "beta,eta,sigma,gamma,delta = 2,.1,.1,.1,.5\n",
    "\n",
    "Theta_A = np.array([[0, 0,      0,   delta],\n",
    "                    [0, 0,      0,     0],\n",
    "                    [0, eta,    0,     0],\n",
    "                    [0, gamma, sigma,  0]])\n",
    "\n",
    "B_A = np.array([[0,     0,  0,  0],\n",
    "                [beta,  0,  0,  0],\n",
    "                [0,     0,  0,  0],\n",
    "                [0,     0,  0,  0]])\n",
    "\n",
    "n = len(Theta_A)\n",
    "\n",
    "O_cal = set([0,2,3])\n",
    "I_cal = set([1])\n",
    "\n",
    "Z_cal = [set([(1,0)]),set(),set(),set()]\n",
    "Y_cal = [set(),set([(1,0)]),set(),set()]\n",
    "\n",
    "\n",
    "Theta_L = -Laplacian(Theta_A)\n",
    "B_L = build_B(n, B_A, Y_cal, Z_cal)\n",
    "    \n",
    "\n",
    "x0 = np.array([.9,0.1,0,0])\n",
    "\n",
    "numsteps = 250\n",
    "dt = .1\n",
    "\n",
    "xs = simulate(numsteps, dt, x0, Theta_L, B_L)\n",
    "\n",
    "xs_arr = np.array(xs)\n",
    "labels = ['S','I','Q','R']\n",
    "plt.figure()\n",
    "for i in range(n):\n",
    "    plt.subplot(2,2,i+1)\n",
    "    plt.plot(xs_arr[:,i])\n",
    "    plt.grid()\n",
    "    plt.title(labels[i])\n",
    "\n",
    "plt.tight_layout()\n",
    "plt.show()\n",
    "\n",
    "xs[-1]\n"
   ]
  },
  {
   "cell_type": "code",
   "execution_count": 41,
   "metadata": {},
   "outputs": [
    {
     "data": {
      "text/plain": [
       "array([0.9, 0. , 0. ])"
      ]
     },
     "execution_count": 41,
     "metadata": {},
     "output_type": "execute_result"
    }
   ],
   "source": [
    "inds = [i for i in O_cal]\n",
    "x0[inds]"
   ]
  },
  {
   "cell_type": "code",
   "execution_count": 10,
   "metadata": {},
   "outputs": [
    {
     "name": "stdout",
     "output_type": "stream",
     "text": [
      "[-0.18  0.16  0.01  0.01]\n",
      "[-0.18  0.16  0.01  0.01]\n"
     ]
    }
   ],
   "source": [
    "U = np.zeros(Theta_L.shape)\n",
    "V = np.zeros(B_L.shape)\n",
    "\n",
    "s_dot = -beta*x0[0]*x0[1] + delta*x0[3]\n",
    "i_dot = beta*x0[0]*x0[1] - (eta+gamma)*x0[1]\n",
    "q_dot = eta*x0[1] - sigma*x0[2]\n",
    "r_dot = gamma*x0[1]+sigma*x0[2] - delta*x0[3]\n",
    "\n",
    "x_d_check = np.array([s_dot, i_dot, q_dot, r_dot])\n",
    "x_d = x_dot(x0,Theta_L,B_L,U,V)\n",
    "print(x_d_check)\n",
    "print(x_d)\n"
   ]
  },
  {
   "cell_type": "code",
   "execution_count": 134,
   "metadata": {},
   "outputs": [
    {
     "name": "stdout",
     "output_type": "stream",
     "text": [
      "[-0.18  0.16  0.01  0.01]\n",
      "[-0.18  0.16  0.01  0.01]\n",
      "d(x): 1.3877787807814457e-17\n",
      "c: [1 1 1]\n",
      "a: [[-0.1  -0.1  -0.09]]\n",
      "b: 1.3877787807814457e-17\n"
     ]
    },
    {
     "data": {
      "text/plain": [
       "     con: array([], dtype=float64)\n",
       "     fun: 1.2086982812983827e-16\n",
       " message: 'Optimization terminated successfully.'\n",
       "     nit: 4\n",
       "   slack: array([2.59064721e-17])\n",
       "  status: 0\n",
       " success: True\n",
       "       x: array([5.75199868e-17, 5.75199868e-17, 5.82985454e-18])"
      ]
     },
     "execution_count": 134,
     "metadata": {},
     "output_type": "execute_result"
    }
   ],
   "source": [
    "O_cal = [0,2,3]\n",
    "I_cal = [1]\n",
    "\n",
    "lambdas = (Theta_A > 0).astype(int)\n",
    "omegas = (B_A > 0).astype(int)\n",
    "\n",
    "lam_f = advance_flatten(lambdas)\n",
    "omg_f = advance_flatten(omegas)\n",
    "\n",
    "omg_f = omg_f[omg_f['val'] > 0]\n",
    "lam_f = lam_f[(lam_f['val'] > 0) & (lam_f['d1'].isin(I_cal))]\n",
    "\n",
    "m = len(lam_f)\n",
    "c = np.concatenate((lam_f['val'].values, omg_f['val'].values))\n",
    "\n",
    "\n",
    "a_l = x0[lam_f['d1'].values]\n",
    "a_o = np.array([x0[row['d0']]*x0[row['d1']] for ind, row in omg_f.iterrows()])\n",
    "\n",
    "a = -np.atleast_2d(np.concatenate((a_l,a_o)))\n",
    "\n",
    "I_max = 0.1\n",
    "\n",
    "b = d(x0, Theta_L, B_L) + alpha(h(x0, I_max, I_cal))\n",
    "print('d(x):', d(x0, Theta_L, B_L))\n",
    "\n",
    "print('c:', c)\n",
    "print('a:', a)\n",
    "print('b:', b)\n",
    "\n",
    "sol = sopt.linprog(c,a,b,options={'tol':1e-14})\n",
    "sol\n",
    "# np.dot(a,sol.x)\n",
    "\n",
    "# U, V = np.zeros(Theta_A.shape), np.zeros()\n",
    "\n",
    "# lam_f"
   ]
  },
  {
   "cell_type": "code",
   "execution_count": 15,
   "metadata": {},
   "outputs": [
    {
     "name": "stdout",
     "output_type": "stream",
     "text": [
      "[[0 0 0 1]\n",
      " [0 0 0 0]\n",
      " [0 1 0 0]\n",
      " [0 1 1 0]]\n",
      "[[0 0 0 0]\n",
      " [1 0 0 0]\n",
      " [0 0 0 0]\n",
      " [0 0 0 0]]\n"
     ]
    }
   ],
   "source": [
    "print(lambdas)\n",
    "print(alphas)\n"
   ]
  },
  {
   "cell_type": "code",
   "execution_count": 101,
   "metadata": {},
   "outputs": [
    {
     "data": {
      "text/html": [
       "<div>\n",
       "<style scoped>\n",
       "    .dataframe tbody tr th:only-of-type {\n",
       "        vertical-align: middle;\n",
       "    }\n",
       "\n",
       "    .dataframe tbody tr th {\n",
       "        vertical-align: top;\n",
       "    }\n",
       "\n",
       "    .dataframe thead th {\n",
       "        text-align: right;\n",
       "    }\n",
       "</style>\n",
       "<table border=\"1\" class=\"dataframe\">\n",
       "  <thead>\n",
       "    <tr style=\"text-align: right;\">\n",
       "      <th></th>\n",
       "      <th>V</th>\n",
       "      <th>x</th>\n",
       "      <th>y</th>\n",
       "    </tr>\n",
       "  </thead>\n",
       "  <tbody>\n",
       "    <tr>\n",
       "      <th>0</th>\n",
       "      <td>0</td>\n",
       "      <td>0</td>\n",
       "      <td>0</td>\n",
       "    </tr>\n",
       "    <tr>\n",
       "      <th>1</th>\n",
       "      <td>0</td>\n",
       "      <td>0</td>\n",
       "      <td>1</td>\n",
       "    </tr>\n",
       "    <tr>\n",
       "      <th>2</th>\n",
       "      <td>0</td>\n",
       "      <td>0</td>\n",
       "      <td>2</td>\n",
       "    </tr>\n",
       "    <tr>\n",
       "      <th>3</th>\n",
       "      <td>1</td>\n",
       "      <td>0</td>\n",
       "      <td>3</td>\n",
       "    </tr>\n",
       "    <tr>\n",
       "      <th>4</th>\n",
       "      <td>0</td>\n",
       "      <td>1</td>\n",
       "      <td>0</td>\n",
       "    </tr>\n",
       "    <tr>\n",
       "      <th>5</th>\n",
       "      <td>0</td>\n",
       "      <td>1</td>\n",
       "      <td>1</td>\n",
       "    </tr>\n",
       "    <tr>\n",
       "      <th>6</th>\n",
       "      <td>0</td>\n",
       "      <td>1</td>\n",
       "      <td>2</td>\n",
       "    </tr>\n",
       "    <tr>\n",
       "      <th>7</th>\n",
       "      <td>0</td>\n",
       "      <td>1</td>\n",
       "      <td>3</td>\n",
       "    </tr>\n",
       "    <tr>\n",
       "      <th>8</th>\n",
       "      <td>0</td>\n",
       "      <td>2</td>\n",
       "      <td>0</td>\n",
       "    </tr>\n",
       "    <tr>\n",
       "      <th>9</th>\n",
       "      <td>10</td>\n",
       "      <td>2</td>\n",
       "      <td>1</td>\n",
       "    </tr>\n",
       "    <tr>\n",
       "      <th>10</th>\n",
       "      <td>0</td>\n",
       "      <td>2</td>\n",
       "      <td>2</td>\n",
       "    </tr>\n",
       "    <tr>\n",
       "      <th>11</th>\n",
       "      <td>0</td>\n",
       "      <td>2</td>\n",
       "      <td>3</td>\n",
       "    </tr>\n",
       "    <tr>\n",
       "      <th>12</th>\n",
       "      <td>0</td>\n",
       "      <td>3</td>\n",
       "      <td>0</td>\n",
       "    </tr>\n",
       "    <tr>\n",
       "      <th>13</th>\n",
       "      <td>5</td>\n",
       "      <td>3</td>\n",
       "      <td>1</td>\n",
       "    </tr>\n",
       "    <tr>\n",
       "      <th>14</th>\n",
       "      <td>1</td>\n",
       "      <td>3</td>\n",
       "      <td>2</td>\n",
       "    </tr>\n",
       "    <tr>\n",
       "      <th>15</th>\n",
       "      <td>0</td>\n",
       "      <td>3</td>\n",
       "      <td>3</td>\n",
       "    </tr>\n",
       "  </tbody>\n",
       "</table>\n",
       "</div>"
      ],
      "text/plain": [
       "     V  x  y\n",
       "0    0  0  0\n",
       "1    0  0  1\n",
       "2    0  0  2\n",
       "3    1  0  3\n",
       "4    0  1  0\n",
       "5    0  1  1\n",
       "6    0  1  2\n",
       "7    0  1  3\n",
       "8    0  2  0\n",
       "9   10  2  1\n",
       "10   0  2  2\n",
       "11   0  2  3\n",
       "12   0  3  0\n",
       "13   5  3  1\n",
       "14   1  3  2\n",
       "15   0  3  3"
      ]
     },
     "execution_count": 101,
     "metadata": {},
     "output_type": "execute_result"
    }
   ],
   "source": [
    "import pandas as pd\n",
    "indices = np.array(list(np.ndindex(Theta_A.shape)))\n",
    "\n",
    "df = pd.DataFrame({'V': Theta_A.flatten(), 'x': indices[:, 0], 'y': indices[:, 1]})\n",
    "\n",
    "df"
   ]
  }
 ],
 "metadata": {
  "kernelspec": {
   "display_name": "Python 3.8.3 ('base')",
   "language": "python",
   "name": "python3"
  },
  "language_info": {
   "codemirror_mode": {
    "name": "ipython",
    "version": 3
   },
   "file_extension": ".py",
   "mimetype": "text/x-python",
   "name": "python",
   "nbconvert_exporter": "python",
   "pygments_lexer": "ipython3",
   "version": "3.8.3"
  },
  "orig_nbformat": 4,
  "vscode": {
   "interpreter": {
    "hash": "2f7b2ec6662fb04de292cd11e3ab73ff17b19ccf00cf6fc2f74bca62d12cb8ab"
   }
  }
 },
 "nbformat": 4,
 "nbformat_minor": 2
}
