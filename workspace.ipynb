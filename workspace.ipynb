{
 "cells": [
  {
   "cell_type": "code",
   "execution_count": 53,
   "metadata": {},
   "outputs": [
    {
     "name": "stdout",
     "output_type": "stream",
     "text": [
      "[[0.  0.  0.  1. ]\n",
      " [0.  0.  0.  0. ]\n",
      " [0.  0.5 0.  0. ]\n",
      " [0.  0.1 0.1 0. ]]\n",
      "[[-0.   0.   0.   1. ]\n",
      " [ 0.  -0.6  0.   0. ]\n",
      " [ 0.   0.5 -0.1  0. ]\n",
      " [ 0.   0.1  0.1 -1. ]]\n"
     ]
    },
    {
     "data": {
      "image/png": "[encoded data removed]",
      "text/plain": [
       "<Figure size 432x288 with 4 Axes>"
      ]
     },
     "metadata": {
      "needs_background": "light"
     },
     "output_type": "display_data"
    },
    {
     "data": {
      "text/plain": [
       "array([0.12      , 0.13333333, 0.66666667, 0.08      ])"
      ]
     },
     "execution_count": 53,
     "metadata": {},
     "output_type": "execute_result"
    }
   ],
   "source": [
    "import numpy as np\n",
    "import matplotlib.pyplot as plt\n",
    "\n",
    "def Laplacian(A):\n",
    "    L = np.zeros(A.shape)\n",
    "    n = len(A)\n",
    "    for i in range(n):\n",
    "        for j in range(n):\n",
    "            if i==j:\n",
    "                L[i,j] = np.sum(A[:,j])\n",
    "            else:\n",
    "                L[i,j] = -A[i,j]\n",
    "    return L\n",
    "\n",
    "def x_dot(x,Theta, B, U_l, V_l):\n",
    "    x_d = ((Theta + U_l) + np.kron(x.T,np.eye(len(x)))@(B-V_l))@x\n",
    "    return x_d \n",
    "\n",
    "\n",
    "def build_B(n, B_A, Y_cal, Z_cal):\n",
    "    B = np.zeros((n**2,n))\n",
    "\n",
    "    n = len(Y_cal)\n",
    "\n",
    "    for i, (Y_i, Z_i) in enumerate(zip(Y_cal,Z_cal)):\n",
    "        if Y_i:\n",
    "            for y in Y_i:\n",
    "                j, k = y\n",
    "                B[n*k+i, j] = B_A[j,k]\n",
    "        \n",
    "        if Z_i:\n",
    "            for z in Z_i:\n",
    "                j, k = z\n",
    "                B[n*k+i, j] = -B_A[j,k]\n",
    "    return B\n",
    "\n",
    "def simulate(numsteps, dt, x0, Theta, B, control=False):\n",
    "    if not control:\n",
    "        U = np.zeros(Theta.shape)\n",
    "        V = np.zeros(B.shape)\n",
    "        \n",
    "        x = x0\n",
    "        xs = [x]\n",
    "        for _ in range(numsteps):\n",
    "            x = x + dt*x_dot(x,Theta,B,U,V)\n",
    "            xs.append(x)\n",
    "        return xs\n",
    "    else:\n",
    "        return None\n",
    "        \n",
    "\n",
    "\n",
    "beta,eta,sigma,gamma,delta = 5,.5,.1,.1,1\n",
    "Theta_A = np.array([[0, 0,      0,   delta],\n",
    "                    [0, 0,      0,     0],\n",
    "                    [0, eta,    0,     0],\n",
    "                    [0, gamma, sigma,  0]])\n",
    "\n",
    "print(Theta_A)\n",
    "\n",
    "B_A = np.array([[0,     0,  0,  0],\n",
    "                [beta,  0,  0,  0],\n",
    "                [0,     0,  0,  0],\n",
    "                [0,     0,  0,  0]])\n",
    "\n",
    "n = len(Theta_A)\n",
    "\n",
    "X_cal = set([1])\n",
    "O_cal = set([0,2,3])\n",
    "\n",
    "Z_cal = [set([(1,0)]),set(),set(),set()]\n",
    "Y_cal = [set(),set([(1,0)]),set(),set()]\n",
    "\n",
    "\n",
    "Theta_L = -Laplacian(Theta_A)\n",
    "print(Theta_L)\n",
    "B_L = build_B(n, B_A, Y_cal, Z_cal)\n",
    "    \n",
    "\n",
    "x0 = np.array([.9,0.1,0,0])\n",
    "\n",
    "numsteps = 500\n",
    "dt = .1\n",
    "\n",
    "xs = simulate(numsteps, dt, x0, Theta_L, B_L)\n",
    "\n",
    "xs_arr = np.array(xs)\n",
    "labels = ['S','I','Q','R']\n",
    "plt.figure()\n",
    "for i in range(n):\n",
    "    plt.subplot(2,2,i+1)\n",
    "    plt.plot(xs_arr[:,i])\n",
    "    plt.grid()\n",
    "    plt.title(labels[i])\n",
    "\n",
    "plt.tight_layout()\n",
    "plt.show()\n",
    "\n",
    "xs[-1]\n"
   ]
  },
  {
   "cell_type": "code",
   "execution_count": 43,
   "metadata": {},
   "outputs": [
    {
     "data": {
      "text/plain": [
       "4.5"
      ]
     },
     "execution_count": 43,
     "metadata": {},
     "output_type": "execute_result"
    }
   ],
   "source": []
  },
  {
   "cell_type": "code",
   "execution_count": 46,
   "metadata": {},
   "outputs": [
    {
     "data": {
      "text/plain": [
       "array([-0.45,  0.45,  0.  ,  0.  ])"
      ]
     },
     "execution_count": 46,
     "metadata": {},
     "output_type": "execute_result"
    }
   ],
   "source": [
    "np.kron(x0.T,np.eye(len(x0)))@(B_L-V)@x0"
   ]
  },
  {
   "cell_type": "code",
   "execution_count": 52,
   "metadata": {},
   "outputs": [
    {
     "name": "stdout",
     "output_type": "stream",
     "text": [
      "[-0.45  0.43  0.01  0.01]\n",
      "[-0.45  0.43  0.01  0.01]\n"
     ]
    }
   ],
   "source": [
    "U = np.zeros(Theta_L.shape)\n",
    "V = np.zeros(B_L.shape)\n",
    "\n",
    "s_dot = -beta*x0[0]*x0[1] + delta*x0[3]\n",
    "i_dot = beta*x0[0]*x0[1] - (eta+gamma)*x0[1]\n",
    "q_dot = eta*x0[1] - sigma*x0[2]\n",
    "r_dot = gamma*x0[1]+sigma*x0[2] - delta*x0[3]\n",
    "\n",
    "x_d_check = np.array([s_dot, i_dot, q_dot, r_dot])\n",
    "x_d = x_dot(x0,Theta_L,B_L,U,V)\n",
    "print(x_d_check)\n",
    "print(x_d)\n"
   ]
  },
  {
   "cell_type": "code",
   "execution_count": null,
   "metadata": {},
   "outputs": [],
   "source": []
  },
  {
   "cell_type": "code",
   "execution_count": 110,
   "metadata": {},
   "outputs": [],
   "source": [
    "lambdas = (Theta_A > 0).astype(int)\n",
    "alphas = (B_A > 0).astype(int)\n",
    "\n"
   ]
  },
  {
   "cell_type": "code",
   "execution_count": 101,
   "metadata": {},
   "outputs": [
    {
     "data": {
      "text/html": [
       "<div>\n",
       "<style scoped>\n",
       "    .dataframe tbody tr th:only-of-type {\n",
       "        vertical-align: middle;\n",
       "    }\n",
       "\n",
       "    .dataframe tbody tr th {\n",
       "        vertical-align: top;\n",
       "    }\n",
       "\n",
       "    .dataframe thead th {\n",
       "        text-align: right;\n",
       "    }\n",
       "</style>\n",
       "<table border=\"1\" class=\"dataframe\">\n",
       "  <thead>\n",
       "    <tr style=\"text-align: right;\">\n",
       "      <th></th>\n",
       "      <th>V</th>\n",
       "      <th>x</th>\n",
       "      <th>y</th>\n",
       "    </tr>\n",
       "  </thead>\n",
       "  <tbody>\n",
       "    <tr>\n",
       "      <th>0</th>\n",
       "      <td>0</td>\n",
       "      <td>0</td>\n",
       "      <td>0</td>\n",
       "    </tr>\n",
       "    <tr>\n",
       "      <th>1</th>\n",
       "      <td>0</td>\n",
       "      <td>0</td>\n",
       "      <td>1</td>\n",
       "    </tr>\n",
       "    <tr>\n",
       "      <th>2</th>\n",
       "      <td>0</td>\n",
       "      <td>0</td>\n",
       "      <td>2</td>\n",
       "    </tr>\n",
       "    <tr>\n",
       "      <th>3</th>\n",
       "      <td>1</td>\n",
       "      <td>0</td>\n",
       "      <td>3</td>\n",
       "    </tr>\n",
       "    <tr>\n",
       "      <th>4</th>\n",
       "      <td>0</td>\n",
       "      <td>1</td>\n",
       "      <td>0</td>\n",
       "    </tr>\n",
       "    <tr>\n",
       "      <th>5</th>\n",
       "      <td>0</td>\n",
       "      <td>1</td>\n",
       "      <td>1</td>\n",
       "    </tr>\n",
       "    <tr>\n",
       "      <th>6</th>\n",
       "      <td>0</td>\n",
       "      <td>1</td>\n",
       "      <td>2</td>\n",
       "    </tr>\n",
       "    <tr>\n",
       "      <th>7</th>\n",
       "      <td>0</td>\n",
       "      <td>1</td>\n",
       "      <td>3</td>\n",
       "    </tr>\n",
       "    <tr>\n",
       "      <th>8</th>\n",
       "      <td>0</td>\n",
       "      <td>2</td>\n",
       "      <td>0</td>\n",
       "    </tr>\n",
       "    <tr>\n",
       "      <th>9</th>\n",
       "      <td>10</td>\n",
       "      <td>2</td>\n",
       "      <td>1</td>\n",
       "    </tr>\n",
       "    <tr>\n",
       "      <th>10</th>\n",
       "      <td>0</td>\n",
       "      <td>2</td>\n",
       "      <td>2</td>\n",
       "    </tr>\n",
       "    <tr>\n",
       "      <th>11</th>\n",
       "      <td>0</td>\n",
       "      <td>2</td>\n",
       "      <td>3</td>\n",
       "    </tr>\n",
       "    <tr>\n",
       "      <th>12</th>\n",
       "      <td>0</td>\n",
       "      <td>3</td>\n",
       "      <td>0</td>\n",
       "    </tr>\n",
       "    <tr>\n",
       "      <th>13</th>\n",
       "      <td>5</td>\n",
       "      <td>3</td>\n",
       "      <td>1</td>\n",
       "    </tr>\n",
       "    <tr>\n",
       "      <th>14</th>\n",
       "      <td>1</td>\n",
       "      <td>3</td>\n",
       "      <td>2</td>\n",
       "    </tr>\n",
       "    <tr>\n",
       "      <th>15</th>\n",
       "      <td>0</td>\n",
       "      <td>3</td>\n",
       "      <td>3</td>\n",
       "    </tr>\n",
       "  </tbody>\n",
       "</table>\n",
       "</div>"
      ],
      "text/plain": [
       "     V  x  y\n",
       "0    0  0  0\n",
       "1    0  0  1\n",
       "2    0  0  2\n",
       "3    1  0  3\n",
       "4    0  1  0\n",
       "5    0  1  1\n",
       "6    0  1  2\n",
       "7    0  1  3\n",
       "8    0  2  0\n",
       "9   10  2  1\n",
       "10   0  2  2\n",
       "11   0  2  3\n",
       "12   0  3  0\n",
       "13   5  3  1\n",
       "14   1  3  2\n",
       "15   0  3  3"
      ]
     },
     "execution_count": 101,
     "metadata": {},
     "output_type": "execute_result"
    }
   ],
   "source": [
    "import pandas as pd\n",
    "indices = np.array(list(np.ndindex(Theta_A.shape)))\n",
    "\n",
    "df = pd.DataFrame({'V': Theta_A.flatten(), 'x': indices[:, 0], 'y': indices[:, 1]})\n",
    "\n",
    "df"
   ]
  }
 ],
 "metadata": {
  "kernelspec": {
   "display_name": "Python 3.9.7 ('base')",
   "language": "python",
   "name": "python3"
  },
  "language_info": {
   "codemirror_mode": {
    "name": "ipython",
    "version": 3
   },
   "file_extension": ".py",
   "mimetype": "text/x-python",
   "name": "python",
   "nbconvert_exporter": "python",
   "pygments_lexer": "ipython3",
   "version": "3.9.7"
  },
  "orig_nbformat": 4,
  "vscode": {
   "interpreter": {
    "hash": "957ad25f5770bd51829ce0272be989bfb1589e35ac7ca1cceb89a9a9096ce882"
   }
  }
 },
 "nbformat": 4,
 "nbformat_minor": 2
}
